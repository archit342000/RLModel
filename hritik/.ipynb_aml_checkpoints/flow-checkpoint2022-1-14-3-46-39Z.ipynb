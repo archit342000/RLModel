{
  "cells": [
    {
      "cell_type": "code",
      "source": [
        "import os\n",
        "import azureml.core\n",
        "from azureml.core import Workspace, Experiment, Datastore,Environment\n",
        "from azureml.widgets import RunDetails\n",
        " \n",
        "from azureml.core import Dataset\n",
        " \n",
        "from azureml.pipeline.core import Pipeline, PipelineData\n",
        "from azureml.pipeline.core import PipelineRun, StepRun, PortDataReference\n",
        "from azureml.pipeline.steps import PythonScriptStep\n",
        " \n",
        "from azureml.core.compute import ComputeTarget, AmlCompute\n",
        "from azureml.core.compute_target import ComputeTargetException\n",
        " \n",
        "from azureml.core.runconfig import RunConfiguration, DockerConfiguration\n",
        "from azureml.core.conda_dependencies import CondaDependencies\n",
        " \n",
        "from azureml.core.model import Model\n",
        "\n",
        "from azureml.data import OutputFileDatasetConfig\n",
        " \n",
        "# Check core SDK version number\n",
        "print(\"SDK version:\", azureml.core.VERSION)"
      ],
      "outputs": [
        {
          "output_type": "stream",
          "name": "stdout",
          "text": "SDK version: 1.37.0\n"
        }
      ],
      "execution_count": 13,
      "metadata": {
        "gather": {
          "logged": 1644774389965
        },
        "scrolled": true
      }
    },
    {
      "cell_type": "code",
      "source": [
        "ws = Workspace.from_config()"
      ],
      "outputs": [],
      "execution_count": 14,
      "metadata": {
        "gather": {
          "logged": 1644774390161
        }
      }
    },
    {
      "cell_type": "code",
      "source": [
        "def_blob_store = ws.get_default_datastore()"
      ],
      "outputs": [],
      "execution_count": 15,
      "metadata": {
        "gather": {
          "logged": 1644774390434
        }
      }
    },
    {
      "cell_type": "code",
      "source": [
        "aml_compute_target = \"RLModel\"\n",
        "try:\n",
        "    aml_compute = AmlCompute(ws, aml_compute_target)\n",
        "    print(\"found existing compute target.\")\n",
        "except ComputeTargetException:\n",
        "    print(\"creating new compute target\")\n",
        "    \n",
        "    provisioning_config = AmlCompute.provisioning_configuration(vm_size = \"STANDARD_ND6S\",\n",
        "                                                                min_nodes = 0, \n",
        "                                                                max_nodes = 3)    \n",
        "    aml_compute = ComputeTarget.create(ws, aml_compute_target, provisioning_config)\n",
        "    aml_compute.wait_for_completion(show_output=True, min_node_count=None, timeout_in_minutes=60)\n",
        "    \n",
        "print(\"Azure Machine Learning Compute attached\")"
      ],
      "outputs": [
        {
          "output_type": "stream",
          "name": "stdout",
          "text": "found existing compute target.\nAzure Machine Learning Compute attached\n"
        }
      ],
      "execution_count": 16,
      "metadata": {
        "gather": {
          "logged": 1644774391463
        },
        "scrolled": true
      }
    },
    {
      "cell_type": "code",
      "source": [
        "aml_run_config = RunConfiguration()\n",
        "\n",
        "aml_run_config.docker = DockerConfiguration(use_docker=True,shm_size='264g')\n",
        "\n",
        "aml_run_config.target = aml_compute\n",
        "#aml_run_config.environment.docker.enabled = True\n",
        "aml_run_config.environment.docker.base_image = \"mcr.microsoft.com/azureml/openmpi4.1.0-cuda11.1-cudnn8-ubuntu18.04:20220113.v1\"\n",
        " \n",
        "aml_run_config.environment.python.user_managed_dependencies = False\n",
        " \n",
        "aml_run_config.environment.python.conda_dependencies = CondaDependencies(conda_dependencies_file_path='./environment.yml')\n",
        "\n"
      ],
      "outputs": [],
      "execution_count": 17,
      "metadata": {
        "gather": {
          "logged": 1644774391692
        }
      }
    },
    {
      "cell_type": "code",
      "source": [
        "def scriptNode(name,script,arguments = None, inputs=None,outputs=None,source=None):   \n",
        "    nodestep = PythonScriptStep(name=name, script_name=script, arguments = arguments,\n",
        "                         inputs = inputs, outputs = outputs, compute_target=aml_compute,\n",
        "                         runconfig=aml_run_config, source_directory=source,\n",
        "                         allow_reuse=True)\n",
        "    return nodestep"
      ],
      "outputs": [],
      "execution_count": 18,
      "metadata": {
        "gather": {
          "logged": 1644774391807
        }
      }
    },
    {
      "cell_type": "code",
      "source": [
        "#file_dataset = Dataset.File.upload_directory(src_dir=\"./pred_data\",target=def_blob_store)\n",
        "#file_dataset.register(workspace=ws,name='pred')\n",
        "\n",
        "#davis_data = Dataset.File.upload_directory(src_dir=\"./davis_data\",target=def_blob_store)\n",
        "#davis_data.register(workspace=ws,name='davis')\n",
        "\n",
        "#qsar_data = Dataset.File.upload_directory(src_dir=\"./qsar\",target=def_blob_store)\n",
        "#qsar_data.register(workspace=ws,name='qsar')"
      ],
      "outputs": [],
      "execution_count": 19,
      "metadata": {
        "gather": {
          "logged": 1644774391924
        },
        "scrolled": true,
        "collapsed": true,
        "jupyter": {
          "outputs_hidden": true
        }
      }
    },
    {
      "cell_type": "code",
      "source": [
        "moses = Dataset.get_by_name(ws, name='moses')\n",
        "pred_dataset = Dataset.get_by_name(ws, name='pred')\n",
        "davis_dataset = Dataset.get_by_name(ws, name='davis')\n",
        "qsar_dataset = Dataset.get_by_name(ws,\"qsar\")"
      ],
      "outputs": [],
      "execution_count": 20,
      "metadata": {
        "gather": {
          "logged": 1644774392249
        },
        "scrolled": true
      }
    },
    {
      "cell_type": "code",
      "source": [
        "raw_data = moses.as_named_input('raw_data')\r\n",
        "in_data = PipelineData(\"Input_Data\", datastore=def_blob_store)\r\n",
        "\r\n",
        "train = PipelineData(\"training_processed\", datastore=def_blob_store)\r\n",
        "test = PipelineData(\"test_processed\", datastore=def_blob_store)\r\n",
        "valid = PipelineData(\"valid_processed\", datastore=def_blob_store)\r\n",
        "train_job_dir = PipelineData(\"train_job_dir\", datastore=def_blob_store)\r\n",
        "\r\n",
        "finetune_job_dir = PipelineData(\"finetune\", datastore=def_blob_store)\r\n",
        "\r\n",
        "qsar = qsar_dataset.as_named_input('qsar')\r\n",
        "\r\n",
        "generation = PipelineData(\"generation\", datastore=def_blob_store)\r\n",
        "\r\n",
        "modified_csv = PipelineData(\"csv\", datastore=def_blob_store)\r\n",
        "\r\n",
        "pred1 = pred_dataset.as_named_input('pred')\r\n",
        "\r\n",
        "davis1 = davis_dataset.as_named_input('davis')\r\n",
        "\r\n",
        "model_output = PipelineData(\"model\", datastore=def_blob_store)\r\n",
        "\r\n",
        "predict = PipelineData(\"predict\", datastore=def_blob_store)"
      ],
      "outputs": [],
      "execution_count": 21,
      "metadata": {
        "jupyter": {
          "source_hidden": false,
          "outputs_hidden": false
        },
        "nteract": {
          "transient": {
            "deleting": false
          }
        },
        "gather": {
          "logged": 1644774392680
        }
      }
    },
    {
      "cell_type": "code",
      "source": [
        "step1 = scriptNode(\"dataSplit\",\"./datasplit/dataSplit.py\",[\"--split_data\", in_data],\r\n",
        "                  [raw_data],[in_data],\"./preprocess_data\")\r\n",
        "                  \r\n",
        "step2 = scriptNode(\"preprocess_training_data\",\"train.py\",\r\n",
        "                    [\"--input-data\",in_data,\"--output-data\", train],\r\n",
        "                    [in_data],[train],\"./preprocess_data\")\r\n",
        "\r\n",
        "step3 = scriptNode(\"preprocess_test_data\",\"test.py\",\r\n",
        "                    [\"--input-data\",in_data,\"--output-data\", test],\r\n",
        "                    [in_data],[test],\"./preprocess_data\")\r\n",
        "\r\n",
        "step4 = scriptNode(\"preprocess_valid_data\",\"valid.py\",\r\n",
        "                    [\"--input-data\",in_data,\"--output-data\", valid],\r\n",
        "                    [in_data],[valid],\"./preprocess_data\")\r\n",
        "                    \r\n",
        "step5 = scriptNode(\"Train GEFA\",\"train_test.py\",\r\n",
        "                    [\"--data-path\",davis1.as_mount(), \"--model_path\",model_output,\r\n",
        "                    \"--data_type\",0],\r\n",
        "                    None,[model_output],\"./GEFA\")\r\n",
        "\r\n",
        "step6 = scriptNode(\"Train GGNN\",\"main.py\",\r\n",
        "                    [\"--input-data\",in_data,\"--train_dir\",train,\"--test_dir\",test,\r\n",
        "                     \"--valid_dir\",valid,\"--job-dir\",train_job_dir],\r\n",
        "                    [in_data,train,test,valid],[train_job_dir],\"./train_model\")\r\n",
        "\r\n",
        "step7 = scriptNode(\"R-Learn\",\"main.py\",\r\n",
        "                    [\"--input-data\",in_data,\"--train_dir\",train,\"--test_dir\",test,\r\n",
        "                     \"--valid_dir\",valid,\"--job-dir\",finetune_job_dir,\"--data_path\",qsar.as_mount(),\r\n",
        "                     \"--trained\",train_job_dir],\r\n",
        "                    [in_data,train,test,valid,train_job_dir],[finetune_job_dir],\"./finetune_model\")\r\n",
        "\r\n",
        "\r\n",
        "step8 = scriptNode(\"Generate molecules\",\"main.py\",\r\n",
        "                    [\"--input-data\",in_data, \"--job-dir\",finetune_job_dir,\"--train_dir\",train,\r\n",
        "                    \"--generation\",generation,\"--trained\",train_job_dir,\"--data_path\",qsar.as_mount()],\r\n",
        "                    [in_data,finetune_job_dir,train,train_job_dir],[generation],\"./generate_molecule\")\r\n",
        "\r\n",
        "\r\n",
        "step9 = scriptNode(\"Prepare data for GEFA\",\"prepare_data.py\",\r\n",
        "                    [\"--data\",modified_csv, \"--pred\",pred1.as_mount(),\r\n",
        "                    \"--generation\",generation],\r\n",
        "                    [generation],[modified_csv],\"./generate_molecule\")\r\n",
        "\r\n",
        "\r\n",
        "\r\n",
        "step10 = scriptNode(\"Predict Binding score\",\"predict.py\",\r\n",
        "                    [\"--data-path\",pred1.as_mount(), \"--model_path\",model_output,\r\n",
        "                    \"--data_type\",1,\"--out_path\",predict,\r\n",
        "                    \"--generated\",modified_csv],\r\n",
        "                    [model_output,modified_csv],[predict],\"./GEFA\")\r\n",
        "\r\n"
      ],
      "outputs": [],
      "execution_count": 22,
      "metadata": {
        "jupyter": {
          "source_hidden": false,
          "outputs_hidden": false
        },
        "nteract": {
          "transient": {
            "deleting": false
          }
        },
        "gather": {
          "logged": 1644774392834
        }
      }
    },
    {
      "cell_type": "code",
      "source": [
        "steps = [step1,step2,step3,step4,step5,step6,step7,step8,step9,step10]"
      ],
      "outputs": [],
      "execution_count": 23,
      "metadata": {
        "gather": {
          "logged": 1644774392995
        }
      }
    },
    {
      "cell_type": "code",
      "source": [
        "pipeline = Pipeline(workspace=ws, steps=steps)\n",
        "pipeline_run1 = Experiment(ws, 'RL-Model').submit(pipeline, regenerate_outputs=False)"
      ],
      "outputs": [
        {
          "output_type": "stream",
          "name": "stdout",
          "text": "Created step dataSplit [0036576f][c537d811-8b66-4f15-98b8-4a1fa770332c], (This step is eligible to reuse a previous run's output)\nCreated step preprocess_training_data [e9ff0733][d2fe58b6-505b-4f91-a621-38090c074017], (This step is eligible to reuse a previous run's output)Created step preprocess_test_data [94a50a35][31df9851-c145-44dd-9b8b-69101c2f1133], (This step is eligible to reuse a previous run's output)\n\nCreated step preprocess_valid_data [b180a721][b6a8820e-6001-4cf2-b86c-0b3aa59da4ac], (This step is eligible to reuse a previous run's output)\nCreated step Train GEFA [1080dfcc][25450b80-3275-4ce2-aec2-2e185d227f0f], (This step is eligible to reuse a previous run's output)\nCreated step Train GGNN [c6c0df74][ee943c7e-72d5-4dd6-8986-b837a0f1bb54], (This step is eligible to reuse a previous run's output)\nCreated step R-Learn [556c93e3][0e2991e5-a38e-42c5-9132-86d1d474d19f], (This step is eligible to reuse a previous run's output)Created step Generate molecules [cb492487][082fc50f-87ba-42f7-b1e7-ac3f47fc4cb2], (This step will run and generate new outputs)\nCreated step Prepare data for GEFA [fcf2e7a4][6e6f65f1-835f-4030-8fdd-217a8615328c], (This step will run and generate new outputs)\nCreated step Predict Binding score [d22bc4e2][9cb4e1fb-5cfc-448e-8a71-31241ba1c19d], (This step is eligible to reuse a previous run's output)\n\nSubmitted PipelineRun d84672c7-3953-462b-a4d5-fdfe631eb1a5\nLink to Azure Machine Learning Portal: https://ml.azure.com/runs/d84672c7-3953-462b-a4d5-fdfe631eb1a5?wsid=/subscriptions/a7dcae9c-3a2e-459d-bc9c-55d04b3aa0b9/resourcegroups/rl_model/workspaces/rl_model&tid=85955b62-b456-42f2-b402-4d658744d938\n"
        }
      ],
      "execution_count": 24,
      "metadata": {
        "gather": {
          "logged": 1644774406702
        },
        "scrolled": true
      }
    }
  ],
  "metadata": {
    "kernel_info": {
      "name": "python3-azureml"
    },
    "kernelspec": {
      "name": "python3-azureml",
      "language": "python",
      "display_name": "Python 3.6 - AzureML"
    },
    "language_info": {
      "name": "python",
      "version": "3.6.9",
      "mimetype": "text/x-python",
      "codemirror_mode": {
        "name": "ipython",
        "version": 3
      },
      "pygments_lexer": "ipython3",
      "nbconvert_exporter": "python",
      "file_extension": ".py"
    },
    "microsoft": {
      "host": {
        "AzureML": {
          "notebookHasBeenCompleted": true
        }
      }
    },
    "nteract": {
      "version": "nteract-front-end@1.0.0"
    }
  },
  "nbformat": 4,
  "nbformat_minor": 2
}